{
 "cells": [
  {
   "cell_type": "markdown",
   "metadata": {},
   "source": [
    "# Jupyter Notebook showing analysis of tweets for the chosen dataset\n",
    "\n",
    "    - The below shows the graphs used to analyse the data set.\n",
    "\n",
    "# Contents:\n",
    "    \n",
    "# Structure\n",
    "    - Shows the Pie Chart of the different types of tweets such as tweets, retweets and replies\n",
    "    - Mean of the different types\n",
    "    - Standard deviation of the different types\n",
    "# - Timeline\n",
    "    - Shows the time line of the the tweets, retweets and replies during the period of the data set\n",
    "# - Sources\n",
    "    - Shows the applications used to send tweets\n",
    "# - Hashtags\n",
    "    - Shows the hashtag cloud of the data set\n",
    "\n",
    "# - Interactions\n",
    "    - Network graph\n",
    "    - retweets, replies, mentions\n",
    "    "
   ]
  },
  {
   "cell_type": "markdown",
   "metadata": {},
   "source": [
    "The set of code below imports the necessary python libraries in order to produce the analysis of the data set"
   ]
  },
  {
   "cell_type": "code",
   "execution_count": 1,
   "metadata": {
    "collapsed": false
   },
   "outputs": [],
   "source": [
    "import pandas\n",
    "from parse import parse_data\n",
    "from analyse import analyse_types\n",
    "from analyse import analyse_entities\n",
    "from analyse import analyse_replies\n",
    "from analyse import analyse_field\n",
    "from analyse import analyse_retweets\n",
    "from analyse import analyse_relations\n",
    "from analyse import analyse_types_field\n",
    "from analyse import analyse_interactions\n",
    "from encode import encode_json\n",
    "data = parse_data(\"../Data/digifest16.csv\")"
   ]
  },
  {
   "cell_type": "markdown",
   "metadata": {},
   "source": [
    "data.head(10) below shows the first 10 entries of the dateframe that is used in order to extract necessary information used to analyse the set."
   ]
  },
  {
   "cell_type": "code",
   "execution_count": 2,
   "metadata": {
    "collapsed": false
   },
   "outputs": [
    {
     "data": {
      "text/html": [
       "<div>\n",
       "<table border=\"1\" class=\"dataframe\">\n",
       "  <thead>\n",
       "    <tr style=\"text-align: right;\">\n",
       "      <th></th>\n",
       "      <th>id_str</th>\n",
       "      <th>from_user</th>\n",
       "      <th>text</th>\n",
       "      <th>created_at</th>\n",
       "      <th>user_lang</th>\n",
       "      <th>from_user_id_str</th>\n",
       "      <th>in_reply_to_status_id_str</th>\n",
       "      <th>source</th>\n",
       "      <th>user_followers_count</th>\n",
       "      <th>user_friends_count</th>\n",
       "      <th>status_url</th>\n",
       "      <th>entities_str</th>\n",
       "    </tr>\n",
       "  </thead>\n",
       "  <tbody>\n",
       "    <tr>\n",
       "      <th>0</th>\n",
       "      <td>705802747971543040</td>\n",
       "      <td>laurajisc</td>\n",
       "      <td>More power to you' - @Jisc's opening video fro...</td>\n",
       "      <td>2016-03-04 17:11:02</td>\n",
       "      <td>en</td>\n",
       "      <td>702450541151068160</td>\n",
       "      <td>NaN</td>\n",
       "      <td>GaggleAMP</td>\n",
       "      <td>44</td>\n",
       "      <td>99.0</td>\n",
       "      <td>http://twitter.com/laurajisc/statuses/70580274...</td>\n",
       "      <td>{'symbols': [], 'urls': [{'display_url': 'gag....</td>\n",
       "    </tr>\n",
       "    <tr>\n",
       "      <th>1</th>\n",
       "      <td>705802727276847104</td>\n",
       "      <td>mark8n</td>\n",
       "      <td>More power to you' - @Jisc's opening video fro...</td>\n",
       "      <td>2016-03-04 17:10:58</td>\n",
       "      <td>en</td>\n",
       "      <td>39734626</td>\n",
       "      <td>NaN</td>\n",
       "      <td>GaggleAMP</td>\n",
       "      <td>392</td>\n",
       "      <td>142.0</td>\n",
       "      <td>http://twitter.com/mark8n/statuses/70580272727...</td>\n",
       "      <td>{'symbols': [], 'urls': [{'display_url': 'gag....</td>\n",
       "    </tr>\n",
       "    <tr>\n",
       "      <th>2</th>\n",
       "      <td>705800984661004289</td>\n",
       "      <td>JournalArchives</td>\n",
       "      <td>RT @Jisc: Timelapse action from #digifest16. S...</td>\n",
       "      <td>2016-03-04 17:04:02</td>\n",
       "      <td>en</td>\n",
       "      <td>383512266</td>\n",
       "      <td>NaN</td>\n",
       "      <td>Twitter Web Client</td>\n",
       "      <td>402</td>\n",
       "      <td>601.0</td>\n",
       "      <td>http://twitter.com/JournalArchives/statuses/70...</td>\n",
       "      <td>{'symbols': [], 'urls': [{'display_url': 'jisc...</td>\n",
       "    </tr>\n",
       "    <tr>\n",
       "      <th>3</th>\n",
       "      <td>705800366370250753</td>\n",
       "      <td>dr_mike_jones</td>\n",
       "      <td>Presentations, podcasts &amp;amp; resources from @...</td>\n",
       "      <td>2016-03-04 17:01:35</td>\n",
       "      <td>en</td>\n",
       "      <td>26623054</td>\n",
       "      <td>NaN</td>\n",
       "      <td>GaggleAMP</td>\n",
       "      <td>104</td>\n",
       "      <td>347.0</td>\n",
       "      <td>http://twitter.com/dr_mike_jones/statuses/7058...</td>\n",
       "      <td>{'symbols': [], 'urls': [{'display_url': 'gag....</td>\n",
       "    </tr>\n",
       "    <tr>\n",
       "      <th>4</th>\n",
       "      <td>705800366328307712</td>\n",
       "      <td>JiscLondon</td>\n",
       "      <td>Presentations, podcasts &amp;amp; resources from @...</td>\n",
       "      <td>2016-03-04 17:01:35</td>\n",
       "      <td>en</td>\n",
       "      <td>28660301</td>\n",
       "      <td>NaN</td>\n",
       "      <td>GaggleAMP</td>\n",
       "      <td>1064</td>\n",
       "      <td>484.0</td>\n",
       "      <td>http://twitter.com/JiscLondon/statuses/7058003...</td>\n",
       "      <td>{'symbols': [], 'urls': [{'display_url': 'gag....</td>\n",
       "    </tr>\n",
       "    <tr>\n",
       "      <th>5</th>\n",
       "      <td>705800203752882176</td>\n",
       "      <td>HistoricalTexts</td>\n",
       "      <td>RT @Jisc: Slides and resources from two very b...</td>\n",
       "      <td>2016-03-04 17:00:56</td>\n",
       "      <td>en</td>\n",
       "      <td>383473897</td>\n",
       "      <td>NaN</td>\n",
       "      <td>Twitter Web Client</td>\n",
       "      <td>795</td>\n",
       "      <td>891.0</td>\n",
       "      <td>http://twitter.com/HistoricalTexts/statuses/70...</td>\n",
       "      <td>{'symbols': [], 'urls': [{'display_url': 'bit....</td>\n",
       "    </tr>\n",
       "    <tr>\n",
       "      <th>6</th>\n",
       "      <td>705800083930005504</td>\n",
       "      <td>wagjuer</td>\n",
       "      <td>RT @coolcatteacher: Get #Digifest16 slides and...</td>\n",
       "      <td>2016-03-04 17:00:27</td>\n",
       "      <td>en</td>\n",
       "      <td>31678345</td>\n",
       "      <td>NaN</td>\n",
       "      <td>Twitter for Android</td>\n",
       "      <td>2596</td>\n",
       "      <td>463.0</td>\n",
       "      <td>http://twitter.com/wagjuer/statuses/7058000839...</td>\n",
       "      <td>{'symbols': [], 'urls': [{'display_url': 'ccte...</td>\n",
       "    </tr>\n",
       "    <tr>\n",
       "      <th>7</th>\n",
       "      <td>705799329001422848</td>\n",
       "      <td>MobileTechExp</td>\n",
       "      <td>RT @ResourceProds: We have lots of digital/cre...</td>\n",
       "      <td>2016-03-04 16:57:27</td>\n",
       "      <td>en</td>\n",
       "      <td>4233726089</td>\n",
       "      <td>NaN</td>\n",
       "      <td>Twitter Web Client</td>\n",
       "      <td>272</td>\n",
       "      <td>885.0</td>\n",
       "      <td>http://twitter.com/MobileTechExp/statuses/7057...</td>\n",
       "      <td>{'symbols': [], 'urls': [{'display_url': 'bit....</td>\n",
       "    </tr>\n",
       "    <tr>\n",
       "      <th>8</th>\n",
       "      <td>705798453847322624</td>\n",
       "      <td>g_fielding</td>\n",
       "      <td>RT @Jisc: Here it is - our list of the UK's to...</td>\n",
       "      <td>2016-03-04 16:53:59</td>\n",
       "      <td>en</td>\n",
       "      <td>106602916</td>\n",
       "      <td>NaN</td>\n",
       "      <td>Twitter Web Client</td>\n",
       "      <td>809</td>\n",
       "      <td>1038.0</td>\n",
       "      <td>http://twitter.com/g_fielding/statuses/7057984...</td>\n",
       "      <td>{'symbols': [], 'urls': [{'display_url': 'bit....</td>\n",
       "    </tr>\n",
       "    <tr>\n",
       "      <th>9</th>\n",
       "      <td>705798322263556097</td>\n",
       "      <td>hammel_rachel</td>\n",
       "      <td>RT @Jisc: Slides and resources from two very b...</td>\n",
       "      <td>2016-03-04 16:53:27</td>\n",
       "      <td>en</td>\n",
       "      <td>913354117</td>\n",
       "      <td>NaN</td>\n",
       "      <td>Twitter for iPhone</td>\n",
       "      <td>1092</td>\n",
       "      <td>1493.0</td>\n",
       "      <td>http://twitter.com/hammel_rachel/statuses/7057...</td>\n",
       "      <td>{'symbols': [], 'urls': [{'display_url': 'bit....</td>\n",
       "    </tr>\n",
       "  </tbody>\n",
       "</table>\n",
       "</div>"
      ],
      "text/plain": [
       "               id_str        from_user  \\\n",
       "0  705802747971543040        laurajisc   \n",
       "1  705802727276847104           mark8n   \n",
       "2  705800984661004289  JournalArchives   \n",
       "3  705800366370250753    dr_mike_jones   \n",
       "4  705800366328307712       JiscLondon   \n",
       "5  705800203752882176  HistoricalTexts   \n",
       "6  705800083930005504          wagjuer   \n",
       "7  705799329001422848    MobileTechExp   \n",
       "8  705798453847322624       g_fielding   \n",
       "9  705798322263556097    hammel_rachel   \n",
       "\n",
       "                                                text          created_at  \\\n",
       "0  More power to you' - @Jisc's opening video fro... 2016-03-04 17:11:02   \n",
       "1  More power to you' - @Jisc's opening video fro... 2016-03-04 17:10:58   \n",
       "2  RT @Jisc: Timelapse action from #digifest16. S... 2016-03-04 17:04:02   \n",
       "3  Presentations, podcasts &amp; resources from @... 2016-03-04 17:01:35   \n",
       "4  Presentations, podcasts &amp; resources from @... 2016-03-04 17:01:35   \n",
       "5  RT @Jisc: Slides and resources from two very b... 2016-03-04 17:00:56   \n",
       "6  RT @coolcatteacher: Get #Digifest16 slides and... 2016-03-04 17:00:27   \n",
       "7  RT @ResourceProds: We have lots of digital/cre... 2016-03-04 16:57:27   \n",
       "8  RT @Jisc: Here it is - our list of the UK's to... 2016-03-04 16:53:59   \n",
       "9  RT @Jisc: Slides and resources from two very b... 2016-03-04 16:53:27   \n",
       "\n",
       "  user_lang    from_user_id_str  in_reply_to_status_id_str  \\\n",
       "0        en  702450541151068160                        NaN   \n",
       "1        en            39734626                        NaN   \n",
       "2        en           383512266                        NaN   \n",
       "3        en            26623054                        NaN   \n",
       "4        en            28660301                        NaN   \n",
       "5        en           383473897                        NaN   \n",
       "6        en            31678345                        NaN   \n",
       "7        en          4233726089                        NaN   \n",
       "8        en           106602916                        NaN   \n",
       "9        en           913354117                        NaN   \n",
       "\n",
       "                source  user_followers_count  user_friends_count  \\\n",
       "0            GaggleAMP                    44                99.0   \n",
       "1            GaggleAMP                   392               142.0   \n",
       "2   Twitter Web Client                   402               601.0   \n",
       "3            GaggleAMP                   104               347.0   \n",
       "4            GaggleAMP                  1064               484.0   \n",
       "5   Twitter Web Client                   795               891.0   \n",
       "6  Twitter for Android                  2596               463.0   \n",
       "7   Twitter Web Client                   272               885.0   \n",
       "8   Twitter Web Client                   809              1038.0   \n",
       "9   Twitter for iPhone                  1092              1493.0   \n",
       "\n",
       "                                          status_url  \\\n",
       "0  http://twitter.com/laurajisc/statuses/70580274...   \n",
       "1  http://twitter.com/mark8n/statuses/70580272727...   \n",
       "2  http://twitter.com/JournalArchives/statuses/70...   \n",
       "3  http://twitter.com/dr_mike_jones/statuses/7058...   \n",
       "4  http://twitter.com/JiscLondon/statuses/7058003...   \n",
       "5  http://twitter.com/HistoricalTexts/statuses/70...   \n",
       "6  http://twitter.com/wagjuer/statuses/7058000839...   \n",
       "7  http://twitter.com/MobileTechExp/statuses/7057...   \n",
       "8  http://twitter.com/g_fielding/statuses/7057984...   \n",
       "9  http://twitter.com/hammel_rachel/statuses/7057...   \n",
       "\n",
       "                                        entities_str  \n",
       "0  {'symbols': [], 'urls': [{'display_url': 'gag....  \n",
       "1  {'symbols': [], 'urls': [{'display_url': 'gag....  \n",
       "2  {'symbols': [], 'urls': [{'display_url': 'jisc...  \n",
       "3  {'symbols': [], 'urls': [{'display_url': 'gag....  \n",
       "4  {'symbols': [], 'urls': [{'display_url': 'gag....  \n",
       "5  {'symbols': [], 'urls': [{'display_url': 'bit....  \n",
       "6  {'symbols': [], 'urls': [{'display_url': 'ccte...  \n",
       "7  {'symbols': [], 'urls': [{'display_url': 'bit....  \n",
       "8  {'symbols': [], 'urls': [{'display_url': 'bit....  \n",
       "9  {'symbols': [], 'urls': [{'display_url': 'bit....  "
      ]
     },
     "execution_count": 2,
     "metadata": {},
     "output_type": "execute_result"
    }
   ],
   "source": [
    "data.head(10)"
   ]
  },
  {
   "cell_type": "markdown",
   "metadata": {},
   "source": [
    "The code snippet below sets up the displaying of the structure of the data set by getting the necessary information needed to create the pie chart. It also shows the first 10 entries in the dataframe types."
   ]
  },
  {
   "cell_type": "code",
   "execution_count": 3,
   "metadata": {
    "collapsed": false
   },
   "outputs": [
    {
     "data": {
      "text/html": [
       "<div>\n",
       "<table border=\"1\" class=\"dataframe\">\n",
       "  <thead>\n",
       "    <tr style=\"text-align: right;\">\n",
       "      <th></th>\n",
       "      <th>tweet</th>\n",
       "      <th>retweet</th>\n",
       "      <th>reply</th>\n",
       "    </tr>\n",
       "  </thead>\n",
       "  <tbody>\n",
       "    <tr>\n",
       "      <th>68963</th>\n",
       "      <td>1</td>\n",
       "      <td>NaN</td>\n",
       "      <td>NaN</td>\n",
       "    </tr>\n",
       "    <tr>\n",
       "      <th>284553</th>\n",
       "      <td>NaN</td>\n",
       "      <td>2</td>\n",
       "      <td>NaN</td>\n",
       "    </tr>\n",
       "    <tr>\n",
       "      <th>726453</th>\n",
       "      <td>NaN</td>\n",
       "      <td>1</td>\n",
       "      <td>NaN</td>\n",
       "    </tr>\n",
       "    <tr>\n",
       "      <th>740343</th>\n",
       "      <td>NaN</td>\n",
       "      <td>NaN</td>\n",
       "      <td>1</td>\n",
       "    </tr>\n",
       "    <tr>\n",
       "      <th>763418</th>\n",
       "      <td>1</td>\n",
       "      <td>NaN</td>\n",
       "      <td>NaN</td>\n",
       "    </tr>\n",
       "    <tr>\n",
       "      <th>769897</th>\n",
       "      <td>NaN</td>\n",
       "      <td>1</td>\n",
       "      <td>NaN</td>\n",
       "    </tr>\n",
       "    <tr>\n",
       "      <th>1147031</th>\n",
       "      <td>4</td>\n",
       "      <td>NaN</td>\n",
       "      <td>NaN</td>\n",
       "    </tr>\n",
       "    <tr>\n",
       "      <th>1168961</th>\n",
       "      <td>2</td>\n",
       "      <td>2</td>\n",
       "      <td>3</td>\n",
       "    </tr>\n",
       "    <tr>\n",
       "      <th>1186911</th>\n",
       "      <td>39</td>\n",
       "      <td>5</td>\n",
       "      <td>2</td>\n",
       "    </tr>\n",
       "    <tr>\n",
       "      <th>1210901</th>\n",
       "      <td>NaN</td>\n",
       "      <td>1</td>\n",
       "      <td>NaN</td>\n",
       "    </tr>\n",
       "  </tbody>\n",
       "</table>\n",
       "</div>"
      ],
      "text/plain": [
       "        tweet retweet reply\n",
       "68963       1     NaN   NaN\n",
       "284553    NaN       2   NaN\n",
       "726453    NaN       1   NaN\n",
       "740343    NaN     NaN     1\n",
       "763418      1     NaN   NaN\n",
       "769897    NaN       1   NaN\n",
       "1147031     4     NaN   NaN\n",
       "1168961     2       2     3\n",
       "1186911    39       5     2\n",
       "1210901   NaN       1   NaN"
      ]
     },
     "execution_count": 3,
     "metadata": {},
     "output_type": "execute_result"
    }
   ],
   "source": [
    "types = analyse_types(data)\n",
    "types.head(10)"
   ]
  },
  {
   "cell_type": "code",
   "execution_count": 4,
   "metadata": {
    "collapsed": false
   },
   "outputs": [
    {
     "data": {
      "text/html": [
       "<div>\n",
       "<table border=\"1\" class=\"dataframe\">\n",
       "  <thead>\n",
       "    <tr style=\"text-align: right;\">\n",
       "      <th></th>\n",
       "      <th>tweet</th>\n",
       "      <th>retweet</th>\n",
       "      <th>reply</th>\n",
       "    </tr>\n",
       "  </thead>\n",
       "  <tbody>\n",
       "    <tr>\n",
       "      <th>count</th>\n",
       "      <td>811.0</td>\n",
       "      <td>1844.0</td>\n",
       "      <td>152.0</td>\n",
       "    </tr>\n",
       "    <tr>\n",
       "      <th>unique</th>\n",
       "      <td>58.0</td>\n",
       "      <td>48.0</td>\n",
       "      <td>14.0</td>\n",
       "    </tr>\n",
       "    <tr>\n",
       "      <th>top</th>\n",
       "      <td>1.0</td>\n",
       "      <td>1.0</td>\n",
       "      <td>1.0</td>\n",
       "    </tr>\n",
       "    <tr>\n",
       "      <th>freq</th>\n",
       "      <td>327.0</td>\n",
       "      <td>1152.0</td>\n",
       "      <td>97.0</td>\n",
       "    </tr>\n",
       "  </tbody>\n",
       "</table>\n",
       "</div>"
      ],
      "text/plain": [
       "        tweet  retweet  reply\n",
       "count   811.0   1844.0  152.0\n",
       "unique   58.0     48.0   14.0\n",
       "top       1.0      1.0    1.0\n",
       "freq    327.0   1152.0   97.0"
      ]
     },
     "execution_count": 4,
     "metadata": {},
     "output_type": "execute_result"
    }
   ],
   "source": [
    "types.describe()"
   ]
  },
  {
   "cell_type": "code",
   "execution_count": 5,
   "metadata": {
    "collapsed": false
   },
   "outputs": [
    {
     "data": {
      "text/plain": [
       "tweet      7.643650\n",
       "retweet    3.204447\n",
       "reply      2.572368\n",
       "dtype: float64"
      ]
     },
     "execution_count": 5,
     "metadata": {},
     "output_type": "execute_result"
    }
   ],
   "source": [
    "types.mean()"
   ]
  },
  {
   "cell_type": "code",
   "execution_count": 6,
   "metadata": {
    "collapsed": false
   },
   "outputs": [
    {
     "data": {
      "text/plain": [
       "tweet      18.879279\n",
       "retweet     8.262117\n",
       "reply       4.872686\n",
       "dtype: float64"
      ]
     },
     "execution_count": 6,
     "metadata": {},
     "output_type": "execute_result"
    }
   ],
   "source": [
    "types.std()"
   ]
  },
  {
   "cell_type": "markdown",
   "metadata": {},
   "source": [
    "The code beneath calls the html file that loads the data that was refined in analyse_types to a pie chart"
   ]
  },
  {
   "cell_type": "code",
   "execution_count": 7,
   "metadata": {
    "collapsed": false
   },
   "outputs": [
    {
     "data": {
      "text/html": [
       "<iframe width=\"50%\" height =\"415\" align = \"left\" src=\"Display/types_pieChart.html\"></iframe>"
      ],
      "text/plain": [
       "<IPython.core.display.HTML object>"
      ]
     },
     "metadata": {},
     "output_type": "display_data"
    }
   ],
   "source": [
    "%%html\n",
    "<iframe width=\"50%\" height =\"415\" align = \"left\" src=\"Display/types_pieChart.html\"></iframe>"
   ]
  },
  {
   "cell_type": "markdown",
   "metadata": {},
   "source": [
    "The pie chart above shows the structure of the tweets, retweets replies. From the graph you can see that out of the three types tweet was the most popular followed by retweet and finally reply. "
   ]
  },
  {
   "cell_type": "markdown",
   "metadata": {},
   "source": [
    "The below code fragment sets up the graph for the timeline of tweets, retweets and replies during the period of the event being looked at. The tweets,retweets and replies are grouped hourly. This is done inorder to get the most readable and accurate data possible to analyse effectively. It also shows what is contained in the dataframe tweet_time."
   ]
  },
  {
   "cell_type": "code",
   "execution_count": 8,
   "metadata": {
    "collapsed": false
   },
   "outputs": [
    {
     "data": {
      "text/html": [
       "<div>\n",
       "<table border=\"1\" class=\"dataframe\">\n",
       "  <thead>\n",
       "    <tr style=\"text-align: right;\">\n",
       "      <th></th>\n",
       "      <th>tweet</th>\n",
       "      <th>retweet</th>\n",
       "      <th>reply</th>\n",
       "    </tr>\n",
       "  </thead>\n",
       "  <tbody>\n",
       "    <tr>\n",
       "      <th>2016-02-22 10:00</th>\n",
       "      <td>3</td>\n",
       "      <td>NaN</td>\n",
       "      <td>NaN</td>\n",
       "    </tr>\n",
       "    <tr>\n",
       "      <th>2016-02-22 11:00</th>\n",
       "      <td>2</td>\n",
       "      <td>4</td>\n",
       "      <td>NaN</td>\n",
       "    </tr>\n",
       "    <tr>\n",
       "      <th>2016-02-22 12:00</th>\n",
       "      <td>NaN</td>\n",
       "      <td>6</td>\n",
       "      <td>NaN</td>\n",
       "    </tr>\n",
       "    <tr>\n",
       "      <th>2016-02-22 13:00</th>\n",
       "      <td>1</td>\n",
       "      <td>5</td>\n",
       "      <td>NaN</td>\n",
       "    </tr>\n",
       "    <tr>\n",
       "      <th>2016-02-22 14:00</th>\n",
       "      <td>NaN</td>\n",
       "      <td>3</td>\n",
       "      <td>NaN</td>\n",
       "    </tr>\n",
       "    <tr>\n",
       "      <th>2016-02-22 15:00</th>\n",
       "      <td>2</td>\n",
       "      <td>2</td>\n",
       "      <td>NaN</td>\n",
       "    </tr>\n",
       "    <tr>\n",
       "      <th>2016-02-22 16:00</th>\n",
       "      <td>1</td>\n",
       "      <td>1</td>\n",
       "      <td>NaN</td>\n",
       "    </tr>\n",
       "    <tr>\n",
       "      <th>2016-02-22 17:00</th>\n",
       "      <td>NaN</td>\n",
       "      <td>3</td>\n",
       "      <td>NaN</td>\n",
       "    </tr>\n",
       "    <tr>\n",
       "      <th>2016-02-22 18:00</th>\n",
       "      <td>NaN</td>\n",
       "      <td>1</td>\n",
       "      <td>NaN</td>\n",
       "    </tr>\n",
       "    <tr>\n",
       "      <th>2016-02-22 20:00</th>\n",
       "      <td>1</td>\n",
       "      <td>1</td>\n",
       "      <td>NaN</td>\n",
       "    </tr>\n",
       "  </tbody>\n",
       "</table>\n",
       "</div>"
      ],
      "text/plain": [
       "                 tweet retweet reply\n",
       "2016-02-22 10:00     3     NaN   NaN\n",
       "2016-02-22 11:00     2       4   NaN\n",
       "2016-02-22 12:00   NaN       6   NaN\n",
       "2016-02-22 13:00     1       5   NaN\n",
       "2016-02-22 14:00   NaN       3   NaN\n",
       "2016-02-22 15:00     2       2   NaN\n",
       "2016-02-22 16:00     1       1   NaN\n",
       "2016-02-22 17:00   NaN       3   NaN\n",
       "2016-02-22 18:00   NaN       1   NaN\n",
       "2016-02-22 20:00     1       1   NaN"
      ]
     },
     "execution_count": 8,
     "metadata": {},
     "output_type": "execute_result"
    }
   ],
   "source": [
    "tweet_time = analyse_types_field(data, \"created_at\", \"h\")\n",
    "encode_json(tweet_time, \"tweet_time.json\")\n",
    "tweet_time.head(10)"
   ]
  },
  {
   "cell_type": "code",
   "execution_count": 9,
   "metadata": {
    "collapsed": false
   },
   "outputs": [
    {
     "data": {
      "text/html": [
       "<div>\n",
       "<table border=\"1\" class=\"dataframe\">\n",
       "  <thead>\n",
       "    <tr style=\"text-align: right;\">\n",
       "      <th></th>\n",
       "      <th>tweet</th>\n",
       "      <th>retweet</th>\n",
       "      <th>reply</th>\n",
       "    </tr>\n",
       "  </thead>\n",
       "  <tbody>\n",
       "    <tr>\n",
       "      <th>count</th>\n",
       "      <td>182.0</td>\n",
       "      <td>217.0</td>\n",
       "      <td>69</td>\n",
       "    </tr>\n",
       "    <tr>\n",
       "      <th>unique</th>\n",
       "      <td>47.0</td>\n",
       "      <td>56.0</td>\n",
       "      <td>17</td>\n",
       "    </tr>\n",
       "    <tr>\n",
       "      <th>top</th>\n",
       "      <td>1.0</td>\n",
       "      <td>1.0</td>\n",
       "      <td>1</td>\n",
       "    </tr>\n",
       "    <tr>\n",
       "      <th>freq</th>\n",
       "      <td>40.0</td>\n",
       "      <td>31.0</td>\n",
       "      <td>29</td>\n",
       "    </tr>\n",
       "  </tbody>\n",
       "</table>\n",
       "</div>"
      ],
      "text/plain": [
       "        tweet  retweet  reply\n",
       "count   182.0    217.0     69\n",
       "unique   47.0     56.0     17\n",
       "top       1.0      1.0      1\n",
       "freq     40.0     31.0     29"
      ]
     },
     "execution_count": 9,
     "metadata": {},
     "output_type": "execute_result"
    }
   ],
   "source": [
    "tweet_time.describe()"
   ]
  },
  {
   "cell_type": "markdown",
   "metadata": {},
   "source": [
    "The below code snippet sets up the displaying of the timeline graph. \n",
    "Note: This graph is interactive. One can click on the tweet types label inorder to toggle to show the line or not too. \n",
    "- The green line graph is that of the tweet\n",
    "- The red line graph is that of the retweet\n",
    "- The orange line graph is that of the reply"
   ]
  },
  {
   "cell_type": "code",
   "execution_count": 10,
   "metadata": {
    "collapsed": false,
    "scrolled": false
   },
   "outputs": [
    {
     "data": {
      "text/html": [
       "<iframe width=\"100%\" height =\"600\" src=\"Display/tweets_per_time.html\"></iframe>"
      ],
      "text/plain": [
       "<IPython.core.display.HTML object>"
      ]
     },
     "metadata": {},
     "output_type": "display_data"
    }
   ],
   "source": [
    "%%html\n",
    "<iframe width=\"100%\" height =\"600\" src=\"Display/tweets_per_time.html\"></iframe>"
   ]
  },
  {
   "cell_type": "markdown",
   "metadata": {},
   "source": [
    "The graph above shows the timeline of the tweets created during the time period of when the hashtag was used. It plots the data hourly. One can see that the weeks leading up to the event that many users were not active in sending tweets. It can be seen that there were fairly the same amount of both retweets and tweets sent during 22nd of Feb till the 29th of Feb. The retweets being sent slightly more than tweets. However during the 2nd of march you can see that more tweets were sent then retweets. One can observe from the graph that during the last few days of the event the activity of sending out different types of tweets have increased exponentially. This is especially apparent during March 01 and March 03. This could be due to the fact that the digifest16 event had reached it's main event and therefore the audience may have had more to say at the time. Another interesting observation that can be made in by looking at the graph is that between the 2nd of March and the 3rd there is a dip in activity. This could possibly be due to the fact that it was during the middle of the night and so very few users would actually be tweeting. If one looked at the graph closely one could possibly see a pulse. Where there are intervals of activity followed by a lull. This could highly likely be due to the sleep patterns people have."
   ]
  },
  {
   "cell_type": "markdown",
   "metadata": {},
   "source": [
    "The python code below creates the data needed in order to make the bar graph possible for the frequency of applications used to send tweets. It also shows the first 10 entries in the data frame apps."
   ]
  },
  {
   "cell_type": "code",
   "execution_count": 11,
   "metadata": {
    "collapsed": false
   },
   "outputs": [
    {
     "data": {
      "text/html": [
       "<div>\n",
       "<table border=\"1\" class=\"dataframe\">\n",
       "  <thead>\n",
       "    <tr style=\"text-align: right;\">\n",
       "      <th></th>\n",
       "      <th>count</th>\n",
       "      <th>source</th>\n",
       "    </tr>\n",
       "  </thead>\n",
       "  <tbody>\n",
       "    <tr>\n",
       "      <th>0</th>\n",
       "      <td>57</td>\n",
       "      <td>Buffer</td>\n",
       "    </tr>\n",
       "    <tr>\n",
       "      <th>1</th>\n",
       "      <td>60</td>\n",
       "      <td>DoubleDutch</td>\n",
       "    </tr>\n",
       "    <tr>\n",
       "      <th>2</th>\n",
       "      <td>275</td>\n",
       "      <td>GaggleAMP</td>\n",
       "    </tr>\n",
       "    <tr>\n",
       "      <th>3</th>\n",
       "      <td>774</td>\n",
       "      <td>Hootsuite</td>\n",
       "    </tr>\n",
       "    <tr>\n",
       "      <th>4</th>\n",
       "      <td>67</td>\n",
       "      <td>Mobile Web (M5)</td>\n",
       "    </tr>\n",
       "    <tr>\n",
       "      <th>5</th>\n",
       "      <td>101</td>\n",
       "      <td>RoundTeam</td>\n",
       "    </tr>\n",
       "    <tr>\n",
       "      <th>6</th>\n",
       "      <td>51</td>\n",
       "      <td>TweetCaster for Android</td>\n",
       "    </tr>\n",
       "    <tr>\n",
       "      <th>7</th>\n",
       "      <td>1569</td>\n",
       "      <td>TweetDeck</td>\n",
       "    </tr>\n",
       "    <tr>\n",
       "      <th>8</th>\n",
       "      <td>60</td>\n",
       "      <td>Tweetbot for iΟS</td>\n",
       "    </tr>\n",
       "    <tr>\n",
       "      <th>9</th>\n",
       "      <td>2726</td>\n",
       "      <td>Twitter Web Client</td>\n",
       "    </tr>\n",
       "  </tbody>\n",
       "</table>\n",
       "</div>"
      ],
      "text/plain": [
       "   count                   source\n",
       "0     57                   Buffer\n",
       "1     60              DoubleDutch\n",
       "2    275                GaggleAMP\n",
       "3    774                Hootsuite\n",
       "4     67          Mobile Web (M5)\n",
       "5    101                RoundTeam\n",
       "6     51  TweetCaster for Android\n",
       "7   1569                TweetDeck\n",
       "8     60         Tweetbot for iΟS\n",
       "9   2726       Twitter Web Client"
      ]
     },
     "execution_count": 11,
     "metadata": {},
     "output_type": "execute_result"
    }
   ],
   "source": [
    "apps = analyse_field(data, 'source')\n",
    "encode_json(apps, \"Apps_count.json\")\n",
    "apps.head(10)"
   ]
  },
  {
   "cell_type": "code",
   "execution_count": 12,
   "metadata": {
    "collapsed": false
   },
   "outputs": [
    {
     "data": {
      "text/html": [
       "<div>\n",
       "<table border=\"1\" class=\"dataframe\">\n",
       "  <thead>\n",
       "    <tr style=\"text-align: right;\">\n",
       "      <th></th>\n",
       "      <th>count</th>\n",
       "    </tr>\n",
       "  </thead>\n",
       "  <tbody>\n",
       "    <tr>\n",
       "      <th>count</th>\n",
       "      <td>16.00000</td>\n",
       "    </tr>\n",
       "    <tr>\n",
       "      <th>mean</th>\n",
       "      <td>781.18750</td>\n",
       "    </tr>\n",
       "    <tr>\n",
       "      <th>std</th>\n",
       "      <td>947.99657</td>\n",
       "    </tr>\n",
       "    <tr>\n",
       "      <th>min</th>\n",
       "      <td>51.00000</td>\n",
       "    </tr>\n",
       "    <tr>\n",
       "      <th>25%</th>\n",
       "      <td>65.25000</td>\n",
       "    </tr>\n",
       "    <tr>\n",
       "      <th>50%</th>\n",
       "      <td>319.50000</td>\n",
       "    </tr>\n",
       "    <tr>\n",
       "      <th>75%</th>\n",
       "      <td>1346.25000</td>\n",
       "    </tr>\n",
       "    <tr>\n",
       "      <th>max</th>\n",
       "      <td>2726.00000</td>\n",
       "    </tr>\n",
       "  </tbody>\n",
       "</table>\n",
       "</div>"
      ],
      "text/plain": [
       "            count\n",
       "count    16.00000\n",
       "mean    781.18750\n",
       "std     947.99657\n",
       "min      51.00000\n",
       "25%      65.25000\n",
       "50%     319.50000\n",
       "75%    1346.25000\n",
       "max    2726.00000"
      ]
     },
     "execution_count": 12,
     "metadata": {},
     "output_type": "execute_result"
    }
   ],
   "source": [
    "apps.describe()"
   ]
  },
  {
   "cell_type": "markdown",
   "metadata": {},
   "source": [
    "The code snippet below sets up the displaying of the timeline graph. \n",
    "Note: This graph is interactive as you can sort the values from most frequent to least frequent. Also hovering over will highlight the bar one is hovering over.\n"
   ]
  },
  {
   "cell_type": "code",
   "execution_count": 13,
   "metadata": {
    "collapsed": false,
    "scrolled": false
   },
   "outputs": [
    {
     "data": {
      "text/html": [
       "<iframe width=\"100%\" height =\"480\" src=\"Display/appsToSendTweets.html\"></iframe>"
      ],
      "text/plain": [
       "<IPython.core.display.HTML object>"
      ]
     },
     "metadata": {},
     "output_type": "display_data"
    }
   ],
   "source": [
    "%%html\n",
    "<iframe width=\"100%\" height =\"480\" src=\"Display/appsToSendTweets.html\"></iframe>"
   ]
  },
  {
   "cell_type": "markdown",
   "metadata": {},
   "source": [
    "The bar graph above shows the applications that were used the most to send tweets out into the world wide web. One can see that Twitter Web Client, Twitter for iPhone and Twitter for Android are the most popular devices to send tweets. This is hardly surprising as they are the most accessible ways of accessing the internet. When the graph is sorted, one can see that there are not many applications that are used at a frequency of 1000. There seems to be only five such sources that are very popular. From this graph one can also make an educated guess as to which application is most popular in the current market."
   ]
  },
  {
   "cell_type": "markdown",
   "metadata": {},
   "source": [
    "The python code below creates the data needed in order to make the hashtag cloud possible for the frequency of each Hashtag being tagged. It also shows the first 10 entries in the data frame hashtags."
   ]
  },
  {
   "cell_type": "code",
   "execution_count": 14,
   "metadata": {
    "collapsed": false
   },
   "outputs": [
    {
     "data": {
      "text/html": [
       "<div>\n",
       "<table border=\"1\" class=\"dataframe\">\n",
       "  <thead>\n",
       "    <tr style=\"text-align: right;\">\n",
       "      <th></th>\n",
       "      <th>count</th>\n",
       "      <th>hashtags</th>\n",
       "    </tr>\n",
       "  </thead>\n",
       "  <tbody>\n",
       "    <tr>\n",
       "      <th>0</th>\n",
       "      <td>1</td>\n",
       "      <td>14JCID</td>\n",
       "    </tr>\n",
       "    <tr>\n",
       "      <th>1</th>\n",
       "      <td>10</td>\n",
       "      <td>3dprinting</td>\n",
       "    </tr>\n",
       "    <tr>\n",
       "      <th>2</th>\n",
       "      <td>2</td>\n",
       "      <td>4life</td>\n",
       "    </tr>\n",
       "    <tr>\n",
       "      <th>3</th>\n",
       "      <td>1</td>\n",
       "      <td>AI</td>\n",
       "    </tr>\n",
       "    <tr>\n",
       "      <th>4</th>\n",
       "      <td>2</td>\n",
       "      <td>AIDAthatsnotmyname</td>\n",
       "    </tr>\n",
       "    <tr>\n",
       "      <th>5</th>\n",
       "      <td>4</td>\n",
       "      <td>AR</td>\n",
       "    </tr>\n",
       "    <tr>\n",
       "      <th>6</th>\n",
       "      <td>2</td>\n",
       "      <td>ARUWomensNetwork</td>\n",
       "    </tr>\n",
       "    <tr>\n",
       "      <th>7</th>\n",
       "      <td>4</td>\n",
       "      <td>Aberdeen</td>\n",
       "    </tr>\n",
       "    <tr>\n",
       "      <th>8</th>\n",
       "      <td>2</td>\n",
       "      <td>Adele</td>\n",
       "    </tr>\n",
       "    <tr>\n",
       "      <th>9</th>\n",
       "      <td>3</td>\n",
       "      <td>Africa</td>\n",
       "    </tr>\n",
       "  </tbody>\n",
       "</table>\n",
       "</div>"
      ],
      "text/plain": [
       "   count            hashtags\n",
       "0      1              14JCID\n",
       "1     10          3dprinting\n",
       "2      2               4life\n",
       "3      1                  AI\n",
       "4      2  AIDAthatsnotmyname\n",
       "5      4                  AR\n",
       "6      2    ARUWomensNetwork\n",
       "7      4            Aberdeen\n",
       "8      2               Adele\n",
       "9      3              Africa"
      ]
     },
     "execution_count": 14,
     "metadata": {},
     "output_type": "execute_result"
    }
   ],
   "source": [
    "hashtags = analyse_entities(data, 'hashtags', 'text')\n",
    "encode_json(hashtags, \"displayData.json\")\n",
    "hashtags.head(10)\n"
   ]
  },
  {
   "cell_type": "code",
   "execution_count": 15,
   "metadata": {
    "collapsed": false
   },
   "outputs": [
    {
     "data": {
      "text/html": [
       "<div>\n",
       "<table border=\"1\" class=\"dataframe\">\n",
       "  <thead>\n",
       "    <tr style=\"text-align: right;\">\n",
       "      <th></th>\n",
       "      <th>count</th>\n",
       "    </tr>\n",
       "  </thead>\n",
       "  <tbody>\n",
       "    <tr>\n",
       "      <th>count</th>\n",
       "      <td>849.000000</td>\n",
       "    </tr>\n",
       "    <tr>\n",
       "      <th>mean</th>\n",
       "      <td>19.680801</td>\n",
       "    </tr>\n",
       "    <tr>\n",
       "      <th>std</th>\n",
       "      <td>411.060772</td>\n",
       "    </tr>\n",
       "    <tr>\n",
       "      <th>min</th>\n",
       "      <td>1.000000</td>\n",
       "    </tr>\n",
       "    <tr>\n",
       "      <th>25%</th>\n",
       "      <td>1.000000</td>\n",
       "    </tr>\n",
       "    <tr>\n",
       "      <th>50%</th>\n",
       "      <td>2.000000</td>\n",
       "    </tr>\n",
       "    <tr>\n",
       "      <th>75%</th>\n",
       "      <td>4.000000</td>\n",
       "    </tr>\n",
       "    <tr>\n",
       "      <th>max</th>\n",
       "      <td>11965.000000</td>\n",
       "    </tr>\n",
       "  </tbody>\n",
       "</table>\n",
       "</div>"
      ],
      "text/plain": [
       "              count\n",
       "count    849.000000\n",
       "mean      19.680801\n",
       "std      411.060772\n",
       "min        1.000000\n",
       "25%        1.000000\n",
       "50%        2.000000\n",
       "75%        4.000000\n",
       "max    11965.000000"
      ]
     },
     "execution_count": 15,
     "metadata": {},
     "output_type": "execute_result"
    }
   ],
   "source": [
    "hashtags.describe()"
   ]
  },
  {
   "cell_type": "markdown",
   "metadata": {},
   "source": [
    "The code snippet below sets up the displaying of the hashtag cloud.\n",
    "Note: This graph is interactive as you can hover the clouds and this will highlight the relevant data needed to be shown."
   ]
  },
  {
   "cell_type": "code",
   "execution_count": 17,
   "metadata": {
    "collapsed": false,
    "scrolled": false
   },
   "outputs": [
    {
     "data": {
      "text/html": [
       "<iframe width=\"100%\" height =\"700\" src=\"Display/tweetBubble.html\"></iframe>"
      ],
      "text/plain": [
       "<IPython.core.display.HTML object>"
      ]
     },
     "metadata": {},
     "output_type": "display_data"
    }
   ],
   "source": [
    "%%html\n",
    "<iframe width=\"100%\" height =\"700\" src=\"Display/tweetBubble.html\"></iframe>"
   ]
  },
  {
   "cell_type": "markdown",
   "metadata": {},
   "source": [
    "The hashtag \"digifest16\" is the largest cloud. This is due to the fact this hashtag was used inorder to pull the data. one thing to keep in mind is that this cloud could have been a lot larger then it is if during the analysis the one were to ignore upper cases. This graph is quite useful for telling the most popular trends at the time."
   ]
  },
  {
   "cell_type": "markdown",
   "metadata": {},
   "source": [
    "The below function call would have been used to calculate the interactiosn each user had with each other. However there was not enough time to finish the graph for it"
   ]
  },
  {
   "cell_type": "code",
   "execution_count": 18,
   "metadata": {
    "collapsed": false,
    "scrolled": true
   },
   "outputs": [],
   "source": [
    "analyse_interactions(data)"
   ]
  },
  {
   "cell_type": "markdown",
   "metadata": {},
   "source": [
    "The python code below creates the data needed in order to make the hashtag cloud possible for the frequency of each user being mentioned. It also shows the first 10 entries in the data frame mentions."
   ]
  },
  {
   "cell_type": "code",
   "execution_count": 19,
   "metadata": {
    "collapsed": false,
    "scrolled": true
   },
   "outputs": [
    {
     "data": {
      "text/html": [
       "<div>\n",
       "<table border=\"1\" class=\"dataframe\">\n",
       "  <thead>\n",
       "    <tr style=\"text-align: right;\">\n",
       "      <th></th>\n",
       "      <th>count</th>\n",
       "      <th>user_mentions</th>\n",
       "    </tr>\n",
       "  </thead>\n",
       "  <tbody>\n",
       "    <tr>\n",
       "      <th>0</th>\n",
       "      <td>4</td>\n",
       "      <td>100029807</td>\n",
       "    </tr>\n",
       "    <tr>\n",
       "      <th>1</th>\n",
       "      <td>3</td>\n",
       "      <td>1002679603</td>\n",
       "    </tr>\n",
       "    <tr>\n",
       "      <th>2</th>\n",
       "      <td>4</td>\n",
       "      <td>1019043228</td>\n",
       "    </tr>\n",
       "    <tr>\n",
       "      <th>3</th>\n",
       "      <td>4</td>\n",
       "      <td>102077957</td>\n",
       "    </tr>\n",
       "    <tr>\n",
       "      <th>4</th>\n",
       "      <td>15</td>\n",
       "      <td>1022476932</td>\n",
       "    </tr>\n",
       "    <tr>\n",
       "      <th>5</th>\n",
       "      <td>1</td>\n",
       "      <td>10228272</td>\n",
       "    </tr>\n",
       "    <tr>\n",
       "      <th>6</th>\n",
       "      <td>4</td>\n",
       "      <td>102646736</td>\n",
       "    </tr>\n",
       "    <tr>\n",
       "      <th>7</th>\n",
       "      <td>5</td>\n",
       "      <td>102654014</td>\n",
       "    </tr>\n",
       "    <tr>\n",
       "      <th>8</th>\n",
       "      <td>2</td>\n",
       "      <td>102685431</td>\n",
       "    </tr>\n",
       "    <tr>\n",
       "      <th>9</th>\n",
       "      <td>1</td>\n",
       "      <td>102951812</td>\n",
       "    </tr>\n",
       "  </tbody>\n",
       "</table>\n",
       "</div>"
      ],
      "text/plain": [
       "   count user_mentions\n",
       "0      4     100029807\n",
       "1      3    1002679603\n",
       "2      4    1019043228\n",
       "3      4     102077957\n",
       "4     15    1022476932\n",
       "5      1      10228272\n",
       "6      4     102646736\n",
       "7      5     102654014\n",
       "8      2     102685431\n",
       "9      1     102951812"
      ]
     },
     "execution_count": 19,
     "metadata": {},
     "output_type": "execute_result"
    }
   ],
   "source": [
    "mentions = analyse_entities(data, 'user_mentions', 'id_str')\n",
    "encode_json(mentions, \"mentions.json\")\n",
    "mentions.head(10)"
   ]
  },
  {
   "cell_type": "markdown",
   "metadata": {},
   "source": [
    "The code snippet below sets up the displaying of the mentions cloud. Note: This graph is interactive as you can hover the clouds and this will highlight the relevant data needed to be shown."
   ]
  },
  {
   "cell_type": "code",
   "execution_count": 20,
   "metadata": {
    "collapsed": false
   },
   "outputs": [
    {
     "data": {
      "text/html": [
       "<iframe width=\"100%\" height =\"700\" src=\"Display/popularMentions.html\"></iframe>"
      ],
      "text/plain": [
       "<IPython.core.display.HTML object>"
      ]
     },
     "metadata": {},
     "output_type": "display_data"
    }
   ],
   "source": [
    "%%html\n",
    "<iframe width=\"100%\" height =\"700\" src=\"Display/popularMentions.html\"></iframe>"
   ]
  },
  {
   "cell_type": "markdown",
   "metadata": {},
   "source": [
    "The above cloud shows the most popular user. This is shown by the number of times the user was mentioned. "
   ]
  },
  {
   "cell_type": "markdown",
   "metadata": {},
   "source": [
    "The python code below creates the data needed in order to make the replies cloud possible for the frequency of each user being replying. It also shows the first 10 entries in the data frame replies."
   ]
  },
  {
   "cell_type": "code",
   "execution_count": 21,
   "metadata": {
    "collapsed": false
   },
   "outputs": [
    {
     "data": {
      "text/plain": [
       "6.897321e+17    1\n",
       "6.917383e+17    3\n",
       "6.977457e+17    1\n",
       "7.022103e+17    1\n",
       "7.024451e+17    1\n",
       "7.025329e+17    2\n",
       "7.025612e+17    1\n",
       "7.025711e+17    1\n",
       "7.026297e+17    1\n",
       "7.027760e+17    1\n",
       "dtype: int64"
      ]
     },
     "execution_count": 21,
     "metadata": {},
     "output_type": "execute_result"
    }
   ],
   "source": [
    "replies = analyse_replies(data)\n",
    "encode_json(replies, \"replies_per_user.json\")\n",
    "replies.head(10)"
   ]
  },
  {
   "cell_type": "code",
   "execution_count": 22,
   "metadata": {
    "collapsed": false
   },
   "outputs": [
    {
     "data": {
      "text/html": [
       "<iframe width=\"100%\" height =\"700\" src=\"Display/replyBubble.html\"></iframe>"
      ],
      "text/plain": [
       "<IPython.core.display.HTML object>"
      ]
     },
     "metadata": {},
     "output_type": "display_data"
    }
   ],
   "source": [
    "%%html\n",
    "<iframe width=\"100%\" height =\"700\" src=\"Display/replyBubble.html\"></iframe>"
   ]
  },
  {
   "cell_type": "markdown",
   "metadata": {},
   "source": [
    "The above cloud shows the user that replied the most. This is shown by the number of times the user replied."
   ]
  },
  {
   "cell_type": "markdown",
   "metadata": {},
   "source": [
    "The python code below creates the data needed in order to make the retweet cloud possible for the frequency of each user being replying. It also shows the first 10 entries in the data frame retweets."
   ]
  },
  {
   "cell_type": "code",
   "execution_count": 23,
   "metadata": {
    "collapsed": false
   },
   "outputs": [
    {
     "data": {
      "text/html": [
       "<div>\n",
       "<table border=\"1\" class=\"dataframe\">\n",
       "  <thead>\n",
       "    <tr style=\"text-align: right;\">\n",
       "      <th></th>\n",
       "      <th>retweet</th>\n",
       "    </tr>\n",
       "  </thead>\n",
       "  <tbody>\n",
       "    <tr>\n",
       "      <th>68963</th>\n",
       "      <td>NaN</td>\n",
       "    </tr>\n",
       "    <tr>\n",
       "      <th>284553</th>\n",
       "      <td>2</td>\n",
       "    </tr>\n",
       "    <tr>\n",
       "      <th>726453</th>\n",
       "      <td>1</td>\n",
       "    </tr>\n",
       "    <tr>\n",
       "      <th>740343</th>\n",
       "      <td>NaN</td>\n",
       "    </tr>\n",
       "    <tr>\n",
       "      <th>763418</th>\n",
       "      <td>NaN</td>\n",
       "    </tr>\n",
       "    <tr>\n",
       "      <th>769897</th>\n",
       "      <td>1</td>\n",
       "    </tr>\n",
       "    <tr>\n",
       "      <th>1147031</th>\n",
       "      <td>NaN</td>\n",
       "    </tr>\n",
       "    <tr>\n",
       "      <th>1168961</th>\n",
       "      <td>2</td>\n",
       "    </tr>\n",
       "    <tr>\n",
       "      <th>1186911</th>\n",
       "      <td>5</td>\n",
       "    </tr>\n",
       "    <tr>\n",
       "      <th>1210901</th>\n",
       "      <td>1</td>\n",
       "    </tr>\n",
       "  </tbody>\n",
       "</table>\n",
       "</div>"
      ],
      "text/plain": [
       "        retweet\n",
       "68963       NaN\n",
       "284553        2\n",
       "726453        1\n",
       "740343      NaN\n",
       "763418      NaN\n",
       "769897        1\n",
       "1147031     NaN\n",
       "1168961       2\n",
       "1186911       5\n",
       "1210901       1"
      ]
     },
     "execution_count": 23,
     "metadata": {},
     "output_type": "execute_result"
    }
   ],
   "source": [
    "retweetsBubble = analyse_retweets(data)\n",
    "encode_json(retweetsBubble, \"retweets_per_user.json\")\n",
    "retweetsBubble.head(10)"
   ]
  },
  {
   "cell_type": "code",
   "execution_count": 24,
   "metadata": {
    "collapsed": false
   },
   "outputs": [
    {
     "data": {
      "text/html": [
       "<iframe width=\"100%\" height =\"700\" src=\"Display/retweetsBubble.html\"></iframe>"
      ],
      "text/plain": [
       "<IPython.core.display.HTML object>"
      ]
     },
     "metadata": {},
     "output_type": "display_data"
    }
   ],
   "source": [
    "%%html\n",
    "<iframe width=\"100%\" height =\"700\" src=\"Display/retweetsBubble.html\"></iframe>"
   ]
  },
  {
   "cell_type": "markdown",
   "metadata": {},
   "source": [
    "The above cloud shows the user who was retweeted the most. This is shown by the number of times the was retweeted."
   ]
  }
 ],
 "metadata": {
  "kernelspec": {
   "display_name": "Python 3",
   "language": "python",
   "name": "python3"
  },
  "language_info": {
   "codemirror_mode": {
    "name": "ipython",
    "version": 3
   },
   "file_extension": ".py",
   "mimetype": "text/x-python",
   "name": "python",
   "nbconvert_exporter": "python",
   "pygments_lexer": "ipython3",
   "version": "3.5.1"
  }
 },
 "nbformat": 4,
 "nbformat_minor": 0
}
